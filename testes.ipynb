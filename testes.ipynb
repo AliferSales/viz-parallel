{
 "cells": [
  {
   "cell_type": "code",
   "execution_count": 34,
   "metadata": {},
   "outputs": [],
   "source": [
    "import glob\n",
    "import imp\n",
    "from  collections import defaultdict"
   ]
  },
  {
   "cell_type": "code",
   "execution_count": 21,
   "metadata": {},
   "outputs": [],
   "source": [
    "a = glob.glob('plots/*/infos.py')"
   ]
  },
  {
   "cell_type": "code",
   "execution_count": 30,
   "metadata": {},
   "outputs": [],
   "source": [
    "b = imp.load_source('teste', a[0])"
   ]
  },
  {
   "cell_type": "code",
   "execution_count": 47,
   "metadata": {},
   "outputs": [],
   "source": [
    "options_functions = defaultdict(lambda: dict())\n",
    "\n",
    "def add_functions(path, keyword, opt):\n",
    "    \n",
    "    for base_path in glob.glob(path):\n",
    "        base_name = base_path.split('/')[1]\n",
    "        opt[base_name][keyword] = imp.load_source('info', base_path).output\n",
    "    return opt\n",
    "\n",
    "options_functions =  add_functions('plots/*/infos.py', 'infos', options_functions)\n",
    "options_functions =  add_functions('plots/*/plot.py', 'plot', options_functions)\n",
    "options_functions =  add_functions('plots/*/get_raw_data.py', 'raw_data', options_functions)"
   ]
  },
  {
   "cell_type": "code",
   "execution_count": 49,
   "metadata": {},
   "outputs": [
    {
     "data": {
      "text/plain": [
       "dict_keys(['perfil_tempo_tramitacao'])"
      ]
     },
     "execution_count": 49,
     "metadata": {},
     "output_type": "execute_result"
    }
   ],
   "source": [
    "options_functions.keys()"
   ]
  },
  {
   "cell_type": "code",
   "execution_count": null,
   "metadata": {
    "collapsed": true
   },
   "outputs": [],
   "source": []
  }
 ],
 "metadata": {
  "kernelspec": {
   "display_name": "Python 3",
   "language": "python",
   "name": "python3"
  },
  "language_info": {
   "codemirror_mode": {
    "name": "ipython",
    "version": 3
   },
   "file_extension": ".py",
   "mimetype": "text/x-python",
   "name": "python",
   "nbconvert_exporter": "python",
   "pygments_lexer": "ipython3",
   "version": "3.6.2"
  }
 },
 "nbformat": 4,
 "nbformat_minor": 2
}
